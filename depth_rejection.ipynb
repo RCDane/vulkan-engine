{
 "cells": [
  {
   "cell_type": "code",
   "execution_count": 1,
   "id": "0fab5556",
   "metadata": {},
   "outputs": [],
   "source": [
    "d1= 0.1002136096\n",
    "d2= 0.1000834703\n",
    "\n",
    "w1 = 0.001301691\n",
    "w2 = 0.001301914"
   ]
  },
  {
   "cell_type": "code",
   "execution_count": null,
   "id": "a9529960",
   "metadata": {},
   "outputs": [
    {
     "data": {
      "text/plain": [
       "0.09997710670197336"
      ]
     },
     "execution_count": 5,
     "metadata": {},
     "output_type": "execute_result"
    },
    {
     "ename": "",
     "evalue": "",
     "output_type": "error",
     "traceback": [
      "\u001b[1;31mThe Kernel crashed while executing code in the current cell or a previous cell. \n",
      "\u001b[1;31mPlease review the code in the cell(s) to identify a possible cause of the failure. \n",
      "\u001b[1;31mClick <a href='https://aka.ms/vscodeJupyterKernelCrash'>here</a> for more info. \n",
      "\u001b[1;31mView Jupyter <a href='command:jupyter.viewOutput'>log</a> for further details."
     ]
    }
   ],
   "source": [
    "abs(d1 - d2) / (w1)"
   ]
  },
  {
   "cell_type": "code",
   "execution_count": null,
   "id": "42872cf7",
   "metadata": {},
   "outputs": [],
   "source": []
  }
 ],
 "metadata": {
  "kernelspec": {
   "display_name": "Python 3",
   "language": "python",
   "name": "python3"
  },
  "language_info": {
   "codemirror_mode": {
    "name": "ipython",
    "version": 3
   },
   "file_extension": ".py",
   "mimetype": "text/x-python",
   "name": "python",
   "nbconvert_exporter": "python",
   "pygments_lexer": "ipython3",
   "version": "3.12.5"
  }
 },
 "nbformat": 4,
 "nbformat_minor": 5
}
