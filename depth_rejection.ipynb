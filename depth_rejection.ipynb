{
 "cells": [
  {
   "cell_type": "code",
   "execution_count": 3,
   "id": "0fab5556",
   "metadata": {},
   "outputs": [],
   "source": [
    "d1= 0.34924\n",
    "d2= 0.350860\n",
    "\n",
    "w1 = 0.002532959"
   ]
  },
  {
   "cell_type": "code",
   "execution_count": 4,
   "id": "a9529960",
   "metadata": {},
   "outputs": [
    {
     "data": {
      "text/plain": [
       "0.6395681888258004"
      ]
     },
     "execution_count": 4,
     "metadata": {},
     "output_type": "execute_result"
    }
   ],
   "source": [
    "abs(d1 - d2) / (w1)"
   ]
  },
  {
   "cell_type": "code",
   "execution_count": null,
   "id": "42872cf7",
   "metadata": {},
   "outputs": [],
   "source": []
  }
 ],
 "metadata": {
  "kernelspec": {
   "display_name": "Python 3",
   "language": "python",
   "name": "python3"
  },
  "language_info": {
   "codemirror_mode": {
    "name": "ipython",
    "version": 3
   },
   "file_extension": ".py",
   "mimetype": "text/x-python",
   "name": "python",
   "nbconvert_exporter": "python",
   "pygments_lexer": "ipython3",
   "version": "3.12.5"
  }
 },
 "nbformat": 4,
 "nbformat_minor": 5
}
