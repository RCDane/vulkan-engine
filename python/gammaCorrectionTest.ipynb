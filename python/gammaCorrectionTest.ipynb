{
 "cells": [
  {
   "cell_type": "code",
   "execution_count": 71,
   "id": "6b593461",
   "metadata": {},
   "outputs": [],
   "source": [
    "d1 =  0.10377976\n",
    "d2 = 0.1037921160\n",
    "\n",
    "zwidth1 = 0.0000133067\n",
    "\n",
    "\n",
    "\n",
    "d11= 0.1001219\n",
    "d12 = 0.10032816\n",
    "\n",
    "zwidth2 = 0.0000001\n",
    "e = 1e-3"
   ]
  },
  {
   "cell_type": "code",
   "execution_count": 74,
   "id": "dcda45b5",
   "metadata": {},
   "outputs": [],
   "source": [
    "def rejection(d1, d2, zwidth):\n",
    "    return abs(d1 - d2) / (zwidth + 1e-2)\n"
   ]
  },
  {
   "cell_type": "code",
   "execution_count": 75,
   "id": "57081787",
   "metadata": {},
   "outputs": [
    {
     "name": "stdout",
     "output_type": "stream",
     "text": [
      "Rejection 1: 0.0012339580090965385\n",
      "Rejection 2: 0.019727292727072965\n"
     ]
    }
   ],
   "source": [
    "d11= 0.1001195386\n",
    "d12 = 0.1003168135\n",
    "\n",
    "print(\"Rejection 1:\", rejection(d1, d2, zwidth1)) \n",
    "print(\"Rejection 2:\", rejection(d11, d12, zwidth2)) \n"
   ]
  },
  {
   "cell_type": "code",
   "execution_count": null,
   "id": "1da554da",
   "metadata": {},
   "outputs": [],
   "source": []
  }
 ],
 "metadata": {
  "kernelspec": {
   "display_name": "Python 3",
   "language": "python",
   "name": "python3"
  },
  "language_info": {
   "codemirror_mode": {
    "name": "ipython",
    "version": 3
   },
   "file_extension": ".py",
   "mimetype": "text/x-python",
   "name": "python",
   "nbconvert_exporter": "python",
   "pygments_lexer": "ipython3",
   "version": "3.12.5"
  }
 },
 "nbformat": 4,
 "nbformat_minor": 5
}
